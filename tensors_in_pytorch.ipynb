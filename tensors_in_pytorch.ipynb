{
  "nbformat": 4,
  "nbformat_minor": 0,
  "metadata": {
    "colab": {
      "provenance": [],
      "gpuType": "T4"
    },
    "kernelspec": {
      "name": "python3",
      "display_name": "Python 3"
    },
    "language_info": {
      "name": "python"
    },
    "accelerator": "GPU"
  },
  "cells": [
    {
      "cell_type": "code",
      "source": [
        "import torch\n",
        "print(torch.__version__)"
      ],
      "metadata": {
        "colab": {
          "base_uri": "https://localhost:8080/"
        },
        "id": "Dgo8e_iBhU8f",
        "outputId": "15cffd02-2cc5-4ec2-8ff3-b99c66037d06"
      },
      "execution_count": null,
      "outputs": [
        {
          "output_type": "stream",
          "name": "stdout",
          "text": [
            "2.6.0+cu124\n"
          ]
        }
      ]
    },
    {
      "cell_type": "code",
      "source": [],
      "metadata": {
        "id": "PF7kvrkkEQrS"
      },
      "execution_count": null,
      "outputs": []
    },
    {
      "cell_type": "code",
      "source": [
        "if torch.cuda.is_available():\n",
        "  print(\"GPU is available\")\n",
        "  print(f\"Using GPU: {torch.cuda.get_device_name(0)}\")\n",
        "else:\n",
        "  print(\"GPU not available.\")"
      ],
      "metadata": {
        "colab": {
          "base_uri": "https://localhost:8080/"
        },
        "id": "ErYshP2Ghtij",
        "outputId": "a2e514f7-7706-48d2-d069-39a72e1e3a03"
      },
      "execution_count": null,
      "outputs": [
        {
          "output_type": "stream",
          "name": "stdout",
          "text": [
            "GPU is available\n",
            "Using GPU: Tesla T4\n"
          ]
        }
      ]
    },
    {
      "cell_type": "markdown",
      "source": [
        "Creating a tensor"
      ],
      "metadata": {
        "id": "X_wiADICikpf"
      }
    },
    {
      "cell_type": "code",
      "source": [
        "#using empty, allocates memory and no value assigned in the space, the value shown is already present in the memory\n",
        "a = torch.empty(2,3)"
      ],
      "metadata": {
        "id": "f2-C97z-ioS0"
      },
      "execution_count": null,
      "outputs": []
    },
    {
      "cell_type": "code",
      "source": [
        "#type check\n",
        "type(a)"
      ],
      "metadata": {
        "colab": {
          "base_uri": "https://localhost:8080/"
        },
        "id": "KEUxT19TjA7A",
        "outputId": "fa4ed334-7d91-485b-99e0-5127cd7de6ad"
      },
      "execution_count": null,
      "outputs": [
        {
          "output_type": "execute_result",
          "data": {
            "text/plain": [
              "torch.Tensor"
            ]
          },
          "metadata": {},
          "execution_count": 8
        }
      ]
    },
    {
      "cell_type": "code",
      "source": [
        "#using zeros\n",
        "torch.zeros(2, 3)"
      ],
      "metadata": {
        "colab": {
          "base_uri": "https://localhost:8080/"
        },
        "id": "BIKyUIGDktCW",
        "outputId": "c984f4b3-5d0d-4d55-e7fb-60d88008484c"
      },
      "execution_count": null,
      "outputs": [
        {
          "output_type": "execute_result",
          "data": {
            "text/plain": [
              "tensor([[0., 0., 0.],\n",
              "        [0., 0., 0.]])"
            ]
          },
          "metadata": {},
          "execution_count": 11
        }
      ]
    },
    {
      "cell_type": "code",
      "source": [
        "#using ones\n",
        "torch.ones(2, 3)"
      ],
      "metadata": {
        "colab": {
          "base_uri": "https://localhost:8080/"
        },
        "id": "MGhSL3RRkyb5",
        "outputId": "63035458-724e-4d50-c556-ce0c19e77225"
      },
      "execution_count": null,
      "outputs": [
        {
          "output_type": "execute_result",
          "data": {
            "text/plain": [
              "tensor([[1., 1., 1.],\n",
              "        [1., 1., 1.]])"
            ]
          },
          "metadata": {},
          "execution_count": 12
        }
      ]
    },
    {
      "cell_type": "code",
      "source": [
        "#using rand\n",
        "torch.rand(2,3)"
      ],
      "metadata": {
        "colab": {
          "base_uri": "https://localhost:8080/"
        },
        "id": "5SJMPCv4ofV9",
        "outputId": "4f6564a8-2633-4a31-a200-c486bdaa74b9"
      },
      "execution_count": null,
      "outputs": [
        {
          "output_type": "execute_result",
          "data": {
            "text/plain": [
              "tensor([[0.1263, 0.1936, 0.7591],\n",
              "        [0.9906, 0.7673, 0.0515]])"
            ]
          },
          "metadata": {},
          "execution_count": 13
        }
      ]
    },
    {
      "cell_type": "code",
      "source": [
        "#use of seed\n",
        "torch.manual_seed(42)\n",
        "torch.rand(2,3)"
      ],
      "metadata": {
        "colab": {
          "base_uri": "https://localhost:8080/"
        },
        "id": "MCxXfugEojn0",
        "outputId": "a0fef704-d2c8-49eb-edbe-4415549757ac"
      },
      "execution_count": null,
      "outputs": [
        {
          "output_type": "execute_result",
          "data": {
            "text/plain": [
              "tensor([[0.8823, 0.9150, 0.3829],\n",
              "        [0.9593, 0.3904, 0.6009]])"
            ]
          },
          "metadata": {},
          "execution_count": 14
        }
      ]
    },
    {
      "cell_type": "code",
      "source": [
        "#using tensor\n",
        "torch.tensor([[1,2,3],[4,5,6]])\n"
      ],
      "metadata": {
        "colab": {
          "base_uri": "https://localhost:8080/"
        },
        "id": "B8w1DlZUo3O-",
        "outputId": "b0cef3ef-c61b-422c-8719-5aa8deb65720"
      },
      "execution_count": null,
      "outputs": [
        {
          "output_type": "execute_result",
          "data": {
            "text/plain": [
              "tensor([[1, 2, 3],\n",
              "        [4, 5, 6]])"
            ]
          },
          "metadata": {},
          "execution_count": 15
        }
      ]
    },
    {
      "cell_type": "code",
      "source": [
        "#using arange, 0-> starting number, 10->  ending number, 2 -> step count\n",
        "torch.arange(0, 10, 2)"
      ],
      "metadata": {
        "colab": {
          "base_uri": "https://localhost:8080/"
        },
        "id": "a4Xc2fsjpiks",
        "outputId": "2c71ae7e-ed5e-4faf-fb39-306042ca8ea4"
      },
      "execution_count": null,
      "outputs": [
        {
          "output_type": "execute_result",
          "data": {
            "text/plain": [
              "tensor([0, 2, 4, 6, 8])"
            ]
          },
          "metadata": {},
          "execution_count": 17
        }
      ]
    },
    {
      "cell_type": "code",
      "source": [
        "#using linspace, 0 -> start, 10 -> end, 10 -> evenly spaced\n",
        "torch.linspace(0, 10, 10)"
      ],
      "metadata": {
        "colab": {
          "base_uri": "https://localhost:8080/"
        },
        "id": "2TvDX8h5qJdL",
        "outputId": "811d45b0-d0c3-4072-851c-0c5256bc42ac"
      },
      "execution_count": null,
      "outputs": [
        {
          "output_type": "execute_result",
          "data": {
            "text/plain": [
              "tensor([ 0.0000,  1.1111,  2.2222,  3.3333,  4.4444,  5.5556,  6.6667,  7.7778,\n",
              "         8.8889, 10.0000])"
            ]
          },
          "metadata": {},
          "execution_count": 20
        }
      ]
    },
    {
      "cell_type": "code",
      "source": [
        "#using eyem, identity matrix\n",
        "torch.eye(3)"
      ],
      "metadata": {
        "colab": {
          "base_uri": "https://localhost:8080/"
        },
        "id": "srKbkKGlqdgm",
        "outputId": "5495727a-c385-4f69-f3b4-0ba02416d76e"
      },
      "execution_count": null,
      "outputs": [
        {
          "output_type": "execute_result",
          "data": {
            "text/plain": [
              "tensor([[1., 0., 0.],\n",
              "        [0., 1., 0.],\n",
              "        [0., 0., 1.]])"
            ]
          },
          "metadata": {},
          "execution_count": 22
        }
      ]
    },
    {
      "cell_type": "code",
      "source": [
        "#using full, generates 3x3 tensors of 5s\n",
        "torch.full((3,3), 5)"
      ],
      "metadata": {
        "colab": {
          "base_uri": "https://localhost:8080/"
        },
        "id": "FC9E66zAqk6e",
        "outputId": "f03a3c77-c49a-4cab-a2b8-430ebd942d0b"
      },
      "execution_count": null,
      "outputs": [
        {
          "output_type": "execute_result",
          "data": {
            "text/plain": [
              "tensor([[5, 5, 5],\n",
              "        [5, 5, 5],\n",
              "        [5, 5, 5]])"
            ]
          },
          "metadata": {},
          "execution_count": 23
        }
      ]
    },
    {
      "cell_type": "markdown",
      "source": [
        "Tensor shape\n"
      ],
      "metadata": {
        "id": "zsITa5jJrltU"
      }
    },
    {
      "cell_type": "code",
      "source": [
        "x = torch.tensor([[1,2,3],[4,5,6]])\n",
        "x"
      ],
      "metadata": {
        "colab": {
          "base_uri": "https://localhost:8080/"
        },
        "id": "dTRY6L0Crodc",
        "outputId": "802abdc5-a315-42b6-bb8e-48cedb0b49ec"
      },
      "execution_count": null,
      "outputs": [
        {
          "output_type": "execute_result",
          "data": {
            "text/plain": [
              "tensor([[1, 2, 3],\n",
              "        [4, 5, 6]])"
            ]
          },
          "metadata": {},
          "execution_count": 5
        }
      ]
    },
    {
      "cell_type": "code",
      "source": [
        "x.shape"
      ],
      "metadata": {
        "colab": {
          "base_uri": "https://localhost:8080/"
        },
        "id": "oS0yRl2fr3NW",
        "outputId": "743224f6-c20b-4c85-c76b-eb6886a93d27"
      },
      "execution_count": null,
      "outputs": [
        {
          "output_type": "execute_result",
          "data": {
            "text/plain": [
              "torch.Size([2, 3])"
            ]
          },
          "metadata": {},
          "execution_count": 30
        }
      ]
    },
    {
      "cell_type": "code",
      "source": [
        "torch.empty_like(x) #same shape different values"
      ],
      "metadata": {
        "colab": {
          "base_uri": "https://localhost:8080/"
        },
        "id": "2lzGYlPrsd1L",
        "outputId": "bdc822cb-78fa-45d6-ea96-8009037a31bb"
      },
      "execution_count": null,
      "outputs": [
        {
          "output_type": "execute_result",
          "data": {
            "text/plain": [
              "tensor([[          166,             0,             0],\n",
              "        [6506875454955,  206158430216,           171]])"
            ]
          },
          "metadata": {},
          "execution_count": 32
        }
      ]
    },
    {
      "cell_type": "code",
      "source": [
        "torch.zeros_like(x)\n"
      ],
      "metadata": {
        "colab": {
          "base_uri": "https://localhost:8080/"
        },
        "id": "MmseDU0Ls6PG",
        "outputId": "7ff4c7f2-ee16-4a40-a019-07f0ef0c2b13"
      },
      "execution_count": null,
      "outputs": [
        {
          "output_type": "execute_result",
          "data": {
            "text/plain": [
              "tensor([[0, 0, 0],\n",
              "        [0, 0, 0]])"
            ]
          },
          "metadata": {},
          "execution_count": 33
        }
      ]
    },
    {
      "cell_type": "code",
      "source": [
        "torch.ones_like(x)"
      ],
      "metadata": {
        "colab": {
          "base_uri": "https://localhost:8080/"
        },
        "id": "ZDXaGfWauohK",
        "outputId": "54620b88-a0f2-43e4-b825-2327bda4f2d5"
      },
      "execution_count": null,
      "outputs": [
        {
          "output_type": "execute_result",
          "data": {
            "text/plain": [
              "tensor([[1, 1, 1],\n",
              "        [1, 1, 1]])"
            ]
          },
          "metadata": {},
          "execution_count": 34
        }
      ]
    },
    {
      "cell_type": "code",
      "source": [
        "torch.rand_like(x, dtype = torch.float32) #not working because X has all integers, rand generates float"
      ],
      "metadata": {
        "colab": {
          "base_uri": "https://localhost:8080/"
        },
        "id": "MCqyprw0uvNh",
        "outputId": "b931a02b-23e0-4dd0-9dde-9840ad2079b7"
      },
      "execution_count": null,
      "outputs": [
        {
          "output_type": "execute_result",
          "data": {
            "text/plain": [
              "tensor([[0.7835, 0.9667, 0.4546],\n",
              "        [0.1293, 0.4654, 0.7435]])"
            ]
          },
          "metadata": {},
          "execution_count": 6
        }
      ]
    },
    {
      "cell_type": "markdown",
      "source": [
        "Tensor Data Types"
      ],
      "metadata": {
        "id": "eaoId1krvy8P"
      }
    },
    {
      "cell_type": "code",
      "source": [
        "x.dtype #knowing datatype"
      ],
      "metadata": {
        "colab": {
          "base_uri": "https://localhost:8080/"
        },
        "id": "geewqPB2v13X",
        "outputId": "0634f437-a4a2-4b30-976b-799ebc3f7626"
      },
      "execution_count": null,
      "outputs": [
        {
          "output_type": "execute_result",
          "data": {
            "text/plain": [
              "torch.int64"
            ]
          },
          "metadata": {},
          "execution_count": 38
        }
      ]
    },
    {
      "cell_type": "code",
      "source": [
        "#assign data type\n",
        "torch.tensor([1,2,3], dtype=torch.int32)"
      ],
      "metadata": {
        "colab": {
          "base_uri": "https://localhost:8080/"
        },
        "id": "lPH4merKx4Bj",
        "outputId": "71062632-14da-42bd-f94a-ac15fcb86773"
      },
      "execution_count": null,
      "outputs": [
        {
          "output_type": "execute_result",
          "data": {
            "text/plain": [
              "tensor([1, 2, 3], dtype=torch.int32)"
            ]
          },
          "metadata": {},
          "execution_count": 41
        }
      ]
    },
    {
      "cell_type": "code",
      "source": [
        "#using to()\n",
        "x.to(torch.float64)"
      ],
      "metadata": {
        "id": "y7uIniOtzhWe",
        "outputId": "73815075-a2cf-4f5c-ef99-4fd4a5e77c39",
        "colab": {
          "base_uri": "https://localhost:8080/"
        }
      },
      "execution_count": null,
      "outputs": [
        {
          "output_type": "execute_result",
          "data": {
            "text/plain": [
              "tensor([[1., 2., 3.],\n",
              "        [4., 5., 6.]], dtype=torch.float64)"
            ]
          },
          "metadata": {},
          "execution_count": 42
        }
      ]
    },
    {
      "cell_type": "code",
      "source": [],
      "metadata": {
        "id": "UtdTnG_wES7g"
      },
      "execution_count": null,
      "outputs": []
    },
    {
      "cell_type": "markdown",
      "source": [
        "Mathematical Ops"
      ],
      "metadata": {
        "id": "4bldWkUIE3Sy"
      }
    },
    {
      "cell_type": "code",
      "source": [
        "x = torch.rand(2,2)\n",
        "x"
      ],
      "metadata": {
        "colab": {
          "base_uri": "https://localhost:8080/"
        },
        "id": "Quab-i9mFDre",
        "outputId": "96d11b71-5436-49d8-f635-7ce0341c03ae"
      },
      "execution_count": null,
      "outputs": [
        {
          "output_type": "execute_result",
          "data": {
            "text/plain": [
              "tensor([[0.0352, 0.1930],\n",
              "        [0.6326, 0.5178]])"
            ]
          },
          "metadata": {},
          "execution_count": 7
        }
      ]
    },
    {
      "cell_type": "markdown",
      "source": [
        "1. Scalar Ops"
      ],
      "metadata": {
        "id": "5O85ZrpjE85y"
      }
    },
    {
      "cell_type": "code",
      "source": [
        "# addition\n",
        "x + 2\n",
        "\n",
        "# subtraction\n",
        "\n",
        "x - 2\n",
        "\n",
        "#multiplication\n",
        "x*3\n",
        "\n",
        "#division\n",
        "x/10\n",
        "\n",
        "#int division\n",
        "(x*100)//3\n",
        "\n",
        "#mod\n",
        "x%3\n",
        "\n",
        "#power\n",
        "x**2"
      ],
      "metadata": {
        "colab": {
          "base_uri": "https://localhost:8080/"
        },
        "id": "xbG8re_TE-zj",
        "outputId": "38248e75-e5af-4399-fdbd-5c1da74e7b23"
      },
      "execution_count": null,
      "outputs": [
        {
          "output_type": "execute_result",
          "data": {
            "text/plain": [
              "tensor([[0.0012, 0.0372],\n",
              "        [0.4001, 0.2681]])"
            ]
          },
          "metadata": {},
          "execution_count": 9
        }
      ]
    },
    {
      "cell_type": "markdown",
      "source": [
        "2. Element wise operation"
      ],
      "metadata": {
        "id": "pvwve39yGNRu"
      }
    },
    {
      "cell_type": "code",
      "source": [
        "a = torch.rand(2,3)\n",
        "b = torch.rand(2,3)\n",
        "\n",
        "print(a)\n",
        "print(b)"
      ],
      "metadata": {
        "colab": {
          "base_uri": "https://localhost:8080/"
        },
        "id": "z2XC6VjVGQIB",
        "outputId": "f32e528c-cefa-497b-b088-2bdb98070960"
      },
      "execution_count": null,
      "outputs": [
        {
          "output_type": "stream",
          "name": "stdout",
          "text": [
            "tensor([[0.2738, 0.5743, 0.1898],\n",
            "        [0.6561, 0.4154, 0.9276]])\n",
            "tensor([[0.6764, 0.5844, 0.9039],\n",
            "        [0.0039, 0.2515, 0.6865]])\n"
          ]
        }
      ]
    },
    {
      "cell_type": "code",
      "source": [
        "a + b\n",
        "\n",
        "a - b\n",
        "\n",
        "a * b\n",
        "\n",
        "a/b\n",
        "\n",
        "a**b\n",
        "\n",
        "a%b\n",
        "\n"
      ],
      "metadata": {
        "colab": {
          "base_uri": "https://localhost:8080/"
        },
        "id": "mjHHKiXCGzu0",
        "outputId": "75c80725-df4a-4755-cfa1-7a937a991e25"
      },
      "execution_count": null,
      "outputs": [
        {
          "output_type": "execute_result",
          "data": {
            "text/plain": [
              "tensor([[0.2738, 0.5743, 0.1898],\n",
              "        [0.0019, 0.1639, 0.2411]])"
            ]
          },
          "metadata": {},
          "execution_count": 13
        }
      ]
    },
    {
      "cell_type": "code",
      "source": [
        "c = torch.tensor([1,-2,3,-4])\n",
        "c"
      ],
      "metadata": {
        "colab": {
          "base_uri": "https://localhost:8080/"
        },
        "id": "N6_bzX8LHkAu",
        "outputId": "6594383a-feeb-461c-be63-7ae6cd60f399"
      },
      "execution_count": null,
      "outputs": [
        {
          "output_type": "execute_result",
          "data": {
            "text/plain": [
              "tensor([ 1, -2,  3, -4])"
            ]
          },
          "metadata": {},
          "execution_count": 4
        }
      ]
    },
    {
      "cell_type": "code",
      "source": [
        "# abs\n",
        "torch.abs(c)\n",
        "\n"
      ],
      "metadata": {
        "colab": {
          "base_uri": "https://localhost:8080/"
        },
        "id": "LOAClMuRJo2y",
        "outputId": "98413190-db95-4d13-eb52-a281def68f8d"
      },
      "execution_count": null,
      "outputs": [
        {
          "output_type": "execute_result",
          "data": {
            "text/plain": [
              "tensor([1, 2, 3, 4])"
            ]
          },
          "metadata": {},
          "execution_count": 15
        }
      ]
    },
    {
      "cell_type": "code",
      "source": [
        "# negative\n",
        "torch.neg(c)\n"
      ],
      "metadata": {
        "colab": {
          "base_uri": "https://localhost:8080/"
        },
        "id": "8zxxxE80Jtw9",
        "outputId": "1c16f06d-b3d5-4c1e-e311-f14cc0079533"
      },
      "execution_count": null,
      "outputs": [
        {
          "output_type": "execute_result",
          "data": {
            "text/plain": [
              "tensor([-1,  2, -3,  4])"
            ]
          },
          "metadata": {},
          "execution_count": 16
        }
      ]
    },
    {
      "cell_type": "code",
      "source": [
        "#round\n",
        "torch.round(c)"
      ],
      "metadata": {
        "colab": {
          "base_uri": "https://localhost:8080/"
        },
        "id": "VfCoS7eeJ2Pg",
        "outputId": "67ce4c7c-2007-4ab4-9dcf-9057615c18e0"
      },
      "execution_count": null,
      "outputs": [
        {
          "output_type": "execute_result",
          "data": {
            "text/plain": [
              "tensor([ 1, -2,  3, -4])"
            ]
          },
          "metadata": {},
          "execution_count": 17
        }
      ]
    },
    {
      "cell_type": "code",
      "source": [
        "#ceil\n",
        "torch.ceil(c)"
      ],
      "metadata": {
        "colab": {
          "base_uri": "https://localhost:8080/"
        },
        "id": "-LQ4D3s_J9lO",
        "outputId": "9f393046-4bf6-41f3-f4b4-dcd10656ca93"
      },
      "execution_count": null,
      "outputs": [
        {
          "output_type": "execute_result",
          "data": {
            "text/plain": [
              "tensor([ 1, -2,  3, -4])"
            ]
          },
          "metadata": {},
          "execution_count": 18
        }
      ]
    },
    {
      "cell_type": "code",
      "source": [
        "#floor\n",
        "torch.floor(c)"
      ],
      "metadata": {
        "colab": {
          "base_uri": "https://localhost:8080/"
        },
        "id": "rPyXnDHwKGe_",
        "outputId": "4a3bcb9b-3490-43b3-f23b-6215e2fdb3e2"
      },
      "execution_count": null,
      "outputs": [
        {
          "output_type": "execute_result",
          "data": {
            "text/plain": [
              "tensor([ 1, -2,  3, -4])"
            ]
          },
          "metadata": {},
          "execution_count": 19
        }
      ]
    },
    {
      "cell_type": "code",
      "source": [
        "#clamp\n",
        "torch.clamp(c, min=2, max=3)"
      ],
      "metadata": {
        "id": "ye7f7MujSD0f",
        "colab": {
          "base_uri": "https://localhost:8080/"
        },
        "outputId": "e96797ed-39b2-49f9-e4bc-94bb95857c4f"
      },
      "execution_count": null,
      "outputs": [
        {
          "output_type": "execute_result",
          "data": {
            "text/plain": [
              "tensor([2, 2, 3, 2])"
            ]
          },
          "metadata": {},
          "execution_count": 5
        }
      ]
    },
    {
      "cell_type": "markdown",
      "source": [
        "3. Reduction Operation"
      ],
      "metadata": {
        "id": "1eMToiMOa8XX"
      }
    },
    {
      "cell_type": "code",
      "source": [
        "d = torch.randint(size=(2,3), low=0, high = 10, dtype=torch.float32)\n",
        "d"
      ],
      "metadata": {
        "colab": {
          "base_uri": "https://localhost:8080/"
        },
        "id": "wy0fOz1aa7Ye",
        "outputId": "49f7982d-7ef4-4353-e7f2-505b47cda62b"
      },
      "execution_count": null,
      "outputs": [
        {
          "output_type": "execute_result",
          "data": {
            "text/plain": [
              "tensor([[3., 6., 2.],\n",
              "        [3., 9., 5.]])"
            ]
          },
          "metadata": {},
          "execution_count": 2
        }
      ]
    },
    {
      "cell_type": "code",
      "source": [
        "# sum\n",
        "torch.sum(d)"
      ],
      "metadata": {
        "colab": {
          "base_uri": "https://localhost:8080/"
        },
        "id": "DTwUf-jmctL0",
        "outputId": "54c425d1-c888-42cb-afb9-d9e09f3758ff"
      },
      "execution_count": null,
      "outputs": [
        {
          "output_type": "execute_result",
          "data": {
            "text/plain": [
              "tensor(28)"
            ]
          },
          "metadata": {},
          "execution_count": 7
        }
      ]
    },
    {
      "cell_type": "code",
      "source": [
        "# sum along columns\n",
        "torch.sum(d, dim=0)"
      ],
      "metadata": {
        "colab": {
          "base_uri": "https://localhost:8080/"
        },
        "id": "Y4Kaze6xc1Ei",
        "outputId": "e208a8da-0d52-44d3-d320-6d459f3d9e4c"
      },
      "execution_count": null,
      "outputs": [
        {
          "output_type": "execute_result",
          "data": {
            "text/plain": [
              "tensor([ 8, 10, 10])"
            ]
          },
          "metadata": {},
          "execution_count": 8
        }
      ]
    },
    {
      "cell_type": "code",
      "source": [
        "# mean\n",
        "torch.mean(d)"
      ],
      "metadata": {
        "colab": {
          "base_uri": "https://localhost:8080/"
        },
        "id": "K5HZ413uc_FJ",
        "outputId": "eec040dc-ea12-4dcd-c6eb-9d97ac07db21"
      },
      "execution_count": null,
      "outputs": [
        {
          "output_type": "execute_result",
          "data": {
            "text/plain": [
              "tensor(5.1667)"
            ]
          },
          "metadata": {},
          "execution_count": 11
        }
      ]
    },
    {
      "cell_type": "code",
      "source": [
        "# median\n",
        "torch.median(d)"
      ],
      "metadata": {
        "colab": {
          "base_uri": "https://localhost:8080/"
        },
        "id": "4f1OQ4SUfNXS",
        "outputId": "102e335e-ab40-4938-a54f-3a824b498915"
      },
      "execution_count": null,
      "outputs": [
        {
          "output_type": "execute_result",
          "data": {
            "text/plain": [
              "tensor(3.)"
            ]
          },
          "metadata": {},
          "execution_count": 3
        }
      ]
    },
    {
      "cell_type": "code",
      "source": [
        "# max and min\n",
        "torch.max(d)\n",
        "torch.min(d)"
      ],
      "metadata": {
        "colab": {
          "base_uri": "https://localhost:8080/"
        },
        "id": "nFPXrEc7fkAC",
        "outputId": "83b158fa-6c87-4be0-b34b-489a4b5bb6bb"
      },
      "execution_count": null,
      "outputs": [
        {
          "output_type": "execute_result",
          "data": {
            "text/plain": [
              "tensor(2.)"
            ]
          },
          "metadata": {},
          "execution_count": 4
        }
      ]
    },
    {
      "cell_type": "code",
      "source": [
        "# product\n",
        "torch.prod(d)"
      ],
      "metadata": {
        "colab": {
          "base_uri": "https://localhost:8080/"
        },
        "id": "PyF0vyfBfs7k",
        "outputId": "f22b1f0f-6acc-45e6-b2a5-6a8d84231449"
      },
      "execution_count": null,
      "outputs": [
        {
          "output_type": "execute_result",
          "data": {
            "text/plain": [
              "tensor(4860.)"
            ]
          },
          "metadata": {},
          "execution_count": 5
        }
      ]
    },
    {
      "cell_type": "code",
      "source": [
        "# std deviation\n",
        "torch.std(d)"
      ],
      "metadata": {
        "colab": {
          "base_uri": "https://localhost:8080/"
        },
        "id": "dDKLJSI-fums",
        "outputId": "01ccfdec-054c-4631-fd5f-de8072860959"
      },
      "execution_count": null,
      "outputs": [
        {
          "output_type": "execute_result",
          "data": {
            "text/plain": [
              "tensor(2.5820)"
            ]
          },
          "metadata": {},
          "execution_count": 6
        }
      ]
    },
    {
      "cell_type": "code",
      "source": [
        "# variance\n",
        "torch.var(d)"
      ],
      "metadata": {
        "colab": {
          "base_uri": "https://localhost:8080/"
        },
        "id": "uCwoG5vVfwwR",
        "outputId": "46d5a1ad-6e2b-4c82-ad17-3f6907a0010d"
      },
      "execution_count": null,
      "outputs": [
        {
          "output_type": "execute_result",
          "data": {
            "text/plain": [
              "tensor(6.6667)"
            ]
          },
          "metadata": {},
          "execution_count": 7
        }
      ]
    },
    {
      "cell_type": "code",
      "source": [
        "# argmax (position of max item)\n",
        "torch.argmax(d)\n"
      ],
      "metadata": {
        "colab": {
          "base_uri": "https://localhost:8080/"
        },
        "id": "uir2kpW6fyN5",
        "outputId": "1f72f80b-6043-4337-f825-5833bf97d736"
      },
      "execution_count": null,
      "outputs": [
        {
          "output_type": "execute_result",
          "data": {
            "text/plain": [
              "tensor(4)"
            ]
          },
          "metadata": {},
          "execution_count": 8
        }
      ]
    },
    {
      "cell_type": "code",
      "source": [
        "# argmin (position of min item)\n",
        "torch.argmin(d)"
      ],
      "metadata": {
        "colab": {
          "base_uri": "https://localhost:8080/"
        },
        "id": "S8rXTnIJgyrM",
        "outputId": "6406c099-9170-4591-ceb7-b014cb788cb6"
      },
      "execution_count": null,
      "outputs": [
        {
          "output_type": "execute_result",
          "data": {
            "text/plain": [
              "tensor(2)"
            ]
          },
          "metadata": {},
          "execution_count": 9
        }
      ]
    },
    {
      "cell_type": "markdown",
      "source": [
        "4. Matrix operations"
      ],
      "metadata": {
        "id": "rxmr3wYihDL8"
      }
    },
    {
      "cell_type": "code",
      "source": [
        "e = torch.randint(size=(2,3), low=0, high=10)\n",
        "f = torch.randint(size=(3,2), low = 0, high=10)\n",
        "\n",
        "print(e)\n",
        "print(f)"
      ],
      "metadata": {
        "colab": {
          "base_uri": "https://localhost:8080/"
        },
        "id": "e_f8vZQ3hCfE",
        "outputId": "8d9bd8d3-999b-477f-ae8c-4db0a4155111"
      },
      "execution_count": null,
      "outputs": [
        {
          "output_type": "stream",
          "name": "stdout",
          "text": [
            "tensor([[1, 5, 9],\n",
            "        [1, 8, 2]])\n",
            "tensor([[3, 3],\n",
            "        [9, 0],\n",
            "        [0, 3]])\n"
          ]
        }
      ]
    },
    {
      "cell_type": "code",
      "source": [
        "# matrix multiplication\n",
        "torch.matmul(e, f)"
      ],
      "metadata": {
        "colab": {
          "base_uri": "https://localhost:8080/"
        },
        "id": "RDADTUndh2Qb",
        "outputId": "573d74fa-32e6-44c4-e9b9-4b1effdf4069"
      },
      "execution_count": null,
      "outputs": [
        {
          "output_type": "execute_result",
          "data": {
            "text/plain": [
              "tensor([[48, 30],\n",
              "        [75,  9]])"
            ]
          },
          "metadata": {},
          "execution_count": 8
        }
      ]
    },
    {
      "cell_type": "code",
      "source": [
        "# dot multiplication\n",
        "vec1 = torch.tensor([1, 2])\n",
        "vec2 = torch.tensor([3, 4])\n",
        "torch.dot(vec1,vec2)"
      ],
      "metadata": {
        "id": "FwEkY-ZIiMTE",
        "colab": {
          "base_uri": "https://localhost:8080/"
        },
        "outputId": "204b4678-f1a5-4048-e9a5-4df149d87979"
      },
      "execution_count": null,
      "outputs": [
        {
          "output_type": "execute_result",
          "data": {
            "text/plain": [
              "tensor(11)"
            ]
          },
          "metadata": {},
          "execution_count": 9
        }
      ]
    },
    {
      "cell_type": "code",
      "source": [
        "# transpose\n",
        "e\n",
        "torch.transpose(e, 0, 1)"
      ],
      "metadata": {
        "colab": {
          "base_uri": "https://localhost:8080/"
        },
        "id": "fFVWHXSZjvPI",
        "outputId": "c2a22810-a536-45eb-ebb3-5ea1df8a9f77"
      },
      "execution_count": null,
      "outputs": [
        {
          "output_type": "execute_result",
          "data": {
            "text/plain": [
              "tensor([[1, 1],\n",
              "        [5, 8],\n",
              "        [9, 2]])"
            ]
          },
          "metadata": {},
          "execution_count": 12
        }
      ]
    },
    {
      "cell_type": "code",
      "source": [
        "# determinant (works for square matrices)\n",
        "g = torch.randint(size=(3,3), low=0, high=10, dtype=torch.float32)\n",
        "g\n",
        "torch.det(g)"
      ],
      "metadata": {
        "colab": {
          "base_uri": "https://localhost:8080/"
        },
        "id": "qguGuTkxkKTY",
        "outputId": "27cfd1d4-ea53-4155-f250-d2f4905824f7"
      },
      "execution_count": null,
      "outputs": [
        {
          "output_type": "execute_result",
          "data": {
            "text/plain": [
              "tensor(-32.)"
            ]
          },
          "metadata": {},
          "execution_count": 19
        }
      ]
    },
    {
      "cell_type": "code",
      "source": [
        "# inverse\n",
        "h = torch.randint(size=(3,3), low=0, high=10, dtype=torch.float32)\n",
        "h\n",
        "torch.inverse(h)\n"
      ],
      "metadata": {
        "colab": {
          "base_uri": "https://localhost:8080/"
        },
        "id": "_HR6BybQldjV",
        "outputId": "229f7210-dce9-4b2d-f97e-47397120ddec"
      },
      "execution_count": null,
      "outputs": [
        {
          "output_type": "execute_result",
          "data": {
            "text/plain": [
              "tensor([[-7.1429e-02,  2.6190e-01, -4.7619e-02],\n",
              "        [ 2.5000e-01, -2.5000e-01,  4.3082e-09],\n",
              "        [-3.2143e-01,  1.7857e-01,  2.8571e-01]])"
            ]
          },
          "metadata": {},
          "execution_count": 25
        }
      ]
    },
    {
      "cell_type": "markdown",
      "source": [
        "5. Comparison Operations"
      ],
      "metadata": {
        "id": "Tq9L_Ts0miwh"
      }
    },
    {
      "cell_type": "code",
      "source": [
        "i = torch.randint(size=(2,3), low=0, high=10)\n",
        "j = torch.randint(size=(2,3), low=0, high=10)\n",
        "print(i)\n",
        "print(j)"
      ],
      "metadata": {
        "colab": {
          "base_uri": "https://localhost:8080/"
        },
        "id": "Sz2RD_aLmnL7",
        "outputId": "7a76c035-14f9-46ba-d293-f51c179e3aed"
      },
      "execution_count": null,
      "outputs": [
        {
          "output_type": "stream",
          "name": "stdout",
          "text": [
            "tensor([[5, 5, 0],\n",
            "        [4, 8, 9]])\n",
            "tensor([[0, 1, 9],\n",
            "        [6, 5, 1]])\n"
          ]
        }
      ]
    },
    {
      "cell_type": "code",
      "source": [
        "# greater than\n",
        "i > j\n",
        "# less than\n",
        "i < j\n",
        "# equal to\n",
        "i == j\n",
        "# not equal to\n",
        "i != j\n"
      ],
      "metadata": {
        "colab": {
          "base_uri": "https://localhost:8080/"
        },
        "id": "S8yDWwAYnCE7",
        "outputId": "ccd56592-20e3-4772-e02b-1b2b9de8cef7"
      },
      "execution_count": null,
      "outputs": [
        {
          "output_type": "execute_result",
          "data": {
            "text/plain": [
              "tensor([[True, True, True],\n",
              "        [True, True, True]])"
            ]
          },
          "metadata": {},
          "execution_count": 28
        }
      ]
    },
    {
      "cell_type": "markdown",
      "source": [
        "6. Special functions"
      ],
      "metadata": {
        "id": "_vKhe_Cznuyd"
      }
    },
    {
      "cell_type": "code",
      "source": [
        "k = torch.randint(size=(2,3), low=0, high=10)\n",
        "k"
      ],
      "metadata": {
        "colab": {
          "base_uri": "https://localhost:8080/"
        },
        "id": "8Y2B1UANo5xP",
        "outputId": "cbff82f7-f0de-432a-9522-eb9059024621"
      },
      "execution_count": null,
      "outputs": [
        {
          "output_type": "execute_result",
          "data": {
            "text/plain": [
              "tensor([[5, 1, 6],\n",
              "        [9, 7, 7]])"
            ]
          },
          "metadata": {},
          "execution_count": 29
        }
      ]
    },
    {
      "cell_type": "code",
      "source": [
        "# log\n",
        "torch.log(k)"
      ],
      "metadata": {
        "colab": {
          "base_uri": "https://localhost:8080/"
        },
        "id": "uawkYJjSnxfu",
        "outputId": "499997d4-fbce-4119-d4fc-2b6817303059"
      },
      "execution_count": null,
      "outputs": [
        {
          "output_type": "execute_result",
          "data": {
            "text/plain": [
              "tensor([[1.6094, 0.0000, 1.7918],\n",
              "        [2.1972, 1.9459, 1.9459]])"
            ]
          },
          "metadata": {},
          "execution_count": 30
        }
      ]
    },
    {
      "cell_type": "code",
      "source": [
        "# exp\n",
        "torch.exp(k)"
      ],
      "metadata": {
        "colab": {
          "base_uri": "https://localhost:8080/"
        },
        "id": "fetQzCHUpGqx",
        "outputId": "3de1e2c6-2900-4a41-aa8b-739250146389"
      },
      "execution_count": null,
      "outputs": [
        {
          "output_type": "execute_result",
          "data": {
            "text/plain": [
              "tensor([[1.4841e+02, 2.7183e+00, 4.0343e+02],\n",
              "        [8.1031e+03, 1.0966e+03, 1.0966e+03]])"
            ]
          },
          "metadata": {},
          "execution_count": 31
        }
      ]
    },
    {
      "cell_type": "code",
      "source": [
        "# sqrt\n",
        "torch.sqrt(k)\n"
      ],
      "metadata": {
        "colab": {
          "base_uri": "https://localhost:8080/"
        },
        "id": "yr09iMSKpKOq",
        "outputId": "42d7a125-6d81-42a4-9778-447d2aab8445"
      },
      "execution_count": null,
      "outputs": [
        {
          "output_type": "execute_result",
          "data": {
            "text/plain": [
              "tensor([[2.2361, 1.0000, 2.4495],\n",
              "        [3.0000, 2.6458, 2.6458]])"
            ]
          },
          "metadata": {},
          "execution_count": 32
        }
      ]
    },
    {
      "cell_type": "code",
      "source": [
        "# sigmoid\n",
        "torch.sigmoid(k)"
      ],
      "metadata": {
        "colab": {
          "base_uri": "https://localhost:8080/"
        },
        "id": "vq0AtlnWpNfX",
        "outputId": "c078b1a0-ffba-4aec-8c26-67094a2a7442"
      },
      "execution_count": null,
      "outputs": [
        {
          "output_type": "execute_result",
          "data": {
            "text/plain": [
              "tensor([[0.9933, 0.7311, 0.9975],\n",
              "        [0.9999, 0.9991, 0.9991]])"
            ]
          },
          "metadata": {},
          "execution_count": 34
        }
      ]
    },
    {
      "cell_type": "code",
      "source": [
        "# softmax\n",
        "l = torch.randint(size=(2,3), low=0, high=10, dtype=torch.float32)\n",
        "\n",
        "torch.softmax(l, dim=0)"
      ],
      "metadata": {
        "colab": {
          "base_uri": "https://localhost:8080/"
        },
        "id": "9qNwZWcXpO8S",
        "outputId": "5748aa08-fb55-4e7f-e66d-1c2a6f8b81f1"
      },
      "execution_count": null,
      "outputs": [
        {
          "output_type": "execute_result",
          "data": {
            "text/plain": [
              "tensor([[0.8808, 0.2689, 0.9526],\n",
              "        [0.1192, 0.7311, 0.0474]])"
            ]
          },
          "metadata": {},
          "execution_count": 39
        }
      ]
    },
    {
      "cell_type": "code",
      "source": [
        "# relu\n",
        "torch.relu(k)"
      ],
      "metadata": {
        "colab": {
          "base_uri": "https://localhost:8080/"
        },
        "id": "tFWCUhbLpeYz",
        "outputId": "19c3725b-d268-41fa-abe5-56e6cca3c37b"
      },
      "execution_count": null,
      "outputs": [
        {
          "output_type": "execute_result",
          "data": {
            "text/plain": [
              "tensor([[5, 1, 6],\n",
              "        [9, 7, 7]])"
            ]
          },
          "metadata": {},
          "execution_count": 35
        }
      ]
    },
    {
      "cell_type": "markdown",
      "source": [
        "Inplace Operation \" _ \" -> signifies inplace op"
      ],
      "metadata": {
        "id": "NlZ17UBLqjtc"
      }
    },
    {
      "cell_type": "code",
      "source": [
        "m = torch.rand(2,3)\n",
        "n = torch.rand(2,3)\n",
        "print(m)\n",
        "print(n)"
      ],
      "metadata": {
        "colab": {
          "base_uri": "https://localhost:8080/"
        },
        "id": "n4vcVewmqIP7",
        "outputId": "f326ea8b-5678-4f4b-d8b9-e6f166bccc04"
      },
      "execution_count": null,
      "outputs": [
        {
          "output_type": "stream",
          "name": "stdout",
          "text": [
            "tensor([[0.0684, 0.9430, 0.2218],\n",
            "        [0.5520, 0.2029, 0.4367]])\n",
            "tensor([[0.3194, 0.2582, 0.3304],\n",
            "        [0.8656, 0.8593, 0.8038]])\n"
          ]
        }
      ]
    },
    {
      "cell_type": "code",
      "source": [
        "m + n # changes done are temporary"
      ],
      "metadata": {
        "colab": {
          "base_uri": "https://localhost:8080/"
        },
        "id": "H3wmgHTdqv7G",
        "outputId": "8b34e6b5-18d7-4c4f-e944-e22c9565dd75"
      },
      "execution_count": null,
      "outputs": [
        {
          "output_type": "execute_result",
          "data": {
            "text/plain": [
              "tensor([[0.3878, 1.2012, 0.5522],\n",
              "        [1.4175, 1.0622, 1.2405]])"
            ]
          },
          "metadata": {},
          "execution_count": 41
        }
      ]
    },
    {
      "cell_type": "code",
      "source": [
        "m.add_(n) #changes done in m are permanent"
      ],
      "metadata": {
        "colab": {
          "base_uri": "https://localhost:8080/"
        },
        "id": "ojgQrXikqz0D",
        "outputId": "4a8e780c-541f-41e5-f1e8-a90669462596"
      },
      "execution_count": null,
      "outputs": [
        {
          "output_type": "execute_result",
          "data": {
            "text/plain": [
              "tensor([[0.3878, 1.2012, 0.5522],\n",
              "        [1.4175, 1.0622, 1.2405]])"
            ]
          },
          "metadata": {},
          "execution_count": 42
        }
      ]
    },
    {
      "cell_type": "code",
      "source": [
        "torch.relu(m)"
      ],
      "metadata": {
        "colab": {
          "base_uri": "https://localhost:8080/"
        },
        "id": "bw-hu6JVrJQV",
        "outputId": "e03a2728-b7ec-4b16-99e7-e93a7494805f"
      },
      "execution_count": null,
      "outputs": [
        {
          "output_type": "execute_result",
          "data": {
            "text/plain": [
              "tensor([[0.3878, 1.2012, 0.5522],\n",
              "        [1.4175, 1.0622, 1.2405]])"
            ]
          },
          "metadata": {},
          "execution_count": 43
        }
      ]
    },
    {
      "cell_type": "code",
      "source": [
        "m.relu_()"
      ],
      "metadata": {
        "colab": {
          "base_uri": "https://localhost:8080/"
        },
        "id": "o72G4PTZsaM2",
        "outputId": "c2bb578f-8779-411d-c984-04223abb99d1"
      },
      "execution_count": null,
      "outputs": [
        {
          "output_type": "execute_result",
          "data": {
            "text/plain": [
              "tensor([[0.3878, 1.2012, 0.5522],\n",
              "        [1.4175, 1.0622, 1.2405]])"
            ]
          },
          "metadata": {},
          "execution_count": 44
        }
      ]
    },
    {
      "cell_type": "markdown",
      "source": [
        "Copying Tensors"
      ],
      "metadata": {
        "id": "Q1-cKkuRt0z6"
      }
    },
    {
      "cell_type": "code",
      "source": [
        "x = torch.rand(2,3)\n",
        "y = x\n",
        "print(x)\n",
        "print(y)"
      ],
      "metadata": {
        "colab": {
          "base_uri": "https://localhost:8080/"
        },
        "id": "Tt8DBtimt2am",
        "outputId": "22d71d7e-6ccd-4818-8f30-9a9853365495"
      },
      "execution_count": null,
      "outputs": [
        {
          "output_type": "stream",
          "name": "stdout",
          "text": [
            "tensor([[0.3168, 0.6790, 0.3324],\n",
            "        [0.8018, 0.6948, 0.6642]])\n",
            "tensor([[0.3168, 0.6790, 0.3324],\n",
            "        [0.8018, 0.6948, 0.6642]])\n"
          ]
        }
      ]
    },
    {
      "cell_type": "code",
      "source": [
        "id(x)"
      ],
      "metadata": {
        "colab": {
          "base_uri": "https://localhost:8080/"
        },
        "id": "GYOo7syAvUm3",
        "outputId": "957bdf53-e5a6-4737-fcca-cf0c7c9332de"
      },
      "execution_count": null,
      "outputs": [
        {
          "output_type": "execute_result",
          "data": {
            "text/plain": [
              "140187074072400"
            ]
          },
          "metadata": {},
          "execution_count": 54
        }
      ]
    },
    {
      "cell_type": "code",
      "source": [
        "id(y)"
      ],
      "metadata": {
        "colab": {
          "base_uri": "https://localhost:8080/"
        },
        "id": "00DDr-ObvWcm",
        "outputId": "6dfa44a1-3b10-4107-ee41-df90b20d9ca6"
      },
      "execution_count": null,
      "outputs": [
        {
          "output_type": "execute_result",
          "data": {
            "text/plain": [
              "140187074072400"
            ]
          },
          "metadata": {},
          "execution_count": 55
        }
      ]
    },
    {
      "cell_type": "markdown",
      "source": [
        "Tensor Operations on GPU"
      ],
      "metadata": {
        "id": "drjvKs1u0Abr"
      }
    },
    {
      "cell_type": "code",
      "source": [
        "torch.cuda.is_available()"
      ],
      "metadata": {
        "colab": {
          "base_uri": "https://localhost:8080/"
        },
        "id": "fOVackJx0DHR",
        "outputId": "12288108-8730-4372-b255-201b34640a39"
      },
      "execution_count": null,
      "outputs": [
        {
          "output_type": "execute_result",
          "data": {
            "text/plain": [
              "True"
            ]
          },
          "metadata": {},
          "execution_count": 2
        }
      ]
    },
    {
      "cell_type": "code",
      "source": [
        "device = torch.device('cuda')"
      ],
      "metadata": {
        "id": "q_E1wyv309dV"
      },
      "execution_count": null,
      "outputs": []
    },
    {
      "cell_type": "code",
      "source": [
        "# tensor on GPU\n",
        "z = torch.rand((2,3), device=device)\n",
        "z"
      ],
      "metadata": {
        "colab": {
          "base_uri": "https://localhost:8080/"
        },
        "id": "WHcnNOq11Bo0",
        "outputId": "9dae57d2-b728-4fa8-ed5c-cf2357385e64"
      },
      "execution_count": null,
      "outputs": [
        {
          "output_type": "execute_result",
          "data": {
            "text/plain": [
              "tensor([[0.5170, 0.4881, 0.2824],\n",
              "        [0.5187, 0.4313, 0.1802]], device='cuda:0')"
            ]
          },
          "metadata": {},
          "execution_count": 5
        }
      ]
    },
    {
      "cell_type": "code",
      "source": [
        "x.to(device)\n",
        "x"
      ],
      "metadata": {
        "colab": {
          "base_uri": "https://localhost:8080/"
        },
        "id": "hC8fbwvR1PDl",
        "outputId": "0bd9a3f8-0954-427b-c402-7780b16877a6"
      },
      "execution_count": null,
      "outputs": [
        {
          "output_type": "execute_result",
          "data": {
            "text/plain": [
              "tensor([[0.3168, 0.6790, 0.3324],\n",
              "        [0.8018, 0.6948, 0.6642]])"
            ]
          },
          "metadata": {},
          "execution_count": 8
        }
      ]
    },
    {
      "cell_type": "code",
      "source": [
        "z + 5"
      ],
      "metadata": {
        "colab": {
          "base_uri": "https://localhost:8080/"
        },
        "id": "XxatTXMt1eVD",
        "outputId": "ba54fa1e-602a-4286-84fe-78e439a240cc"
      },
      "execution_count": null,
      "outputs": [
        {
          "output_type": "execute_result",
          "data": {
            "text/plain": [
              "tensor([[5.5170, 5.4881, 5.2824],\n",
              "        [5.5187, 5.4313, 5.1802]], device='cuda:0')"
            ]
          },
          "metadata": {},
          "execution_count": 10
        }
      ]
    },
    {
      "cell_type": "markdown",
      "source": [
        "CPU vs GPU Processing Time"
      ],
      "metadata": {
        "id": "draT1THJ2eLj"
      }
    },
    {
      "cell_type": "code",
      "source": [
        "import time\n",
        "size = 10000\n",
        "\n",
        "matrix_cpu1 = torch.randn(size, size)\n",
        "matrix_cpu2 = torch.randn(size, size)\n",
        "\n",
        "start_time = time.time()\n",
        "results_cpu = torch.matmul(matrix_cpu1, matrix_cpu2)\n",
        "cpu_time = time.time() - start_time\n",
        "\n",
        "print(f\"Time on CPU: {cpu_time: .4f} seconds\")\n",
        "\n",
        "matrix_gpu1 = matrix_cpu1.to('cuda')\n",
        "matrix_gpu2 = matrix_cpu2.to('cuda')\n",
        "\n",
        "start_time = time.time()\n",
        "results_gpu = torch.matmul(matrix_gpu1, matrix_gpu2)\n",
        "gpu_time = time.time() - start_time\n",
        "\n",
        "print(f\"Time on GPU: {gpu_time: .4f} seconds\")\n",
        "\n",
        "print(\"Speedup: \", cpu_time/gpu_time)"
      ],
      "metadata": {
        "colab": {
          "base_uri": "https://localhost:8080/"
        },
        "id": "mM_nhaj42g_I",
        "outputId": "ead9a0f0-ff95-4a82-82a1-f9a5d5bfda2b"
      },
      "execution_count": null,
      "outputs": [
        {
          "output_type": "stream",
          "name": "stdout",
          "text": [
            "Time on CPU:  15.1674 seconds\n",
            "Time on GPU:  0.1177 seconds\n",
            "Speedup:  128.89007727311406\n"
          ]
        }
      ]
    },
    {
      "cell_type": "markdown",
      "source": [
        "Reshape Tensor"
      ],
      "metadata": {
        "id": "zLiQRnsv4mRN"
      }
    },
    {
      "cell_type": "code",
      "source": [
        "a = torch.ones(4,4)\n",
        "a\n"
      ],
      "metadata": {
        "colab": {
          "base_uri": "https://localhost:8080/"
        },
        "id": "f1Z6MFIe4lj0",
        "outputId": "df0cad90-0495-4c86-d859-54b411881759"
      },
      "execution_count": null,
      "outputs": [
        {
          "output_type": "execute_result",
          "data": {
            "text/plain": [
              "tensor([[1., 1., 1., 1.],\n",
              "        [1., 1., 1., 1.],\n",
              "        [1., 1., 1., 1.],\n",
              "        [1., 1., 1., 1.]])"
            ]
          },
          "metadata": {},
          "execution_count": 12
        }
      ]
    },
    {
      "cell_type": "code",
      "source": [
        "a.reshape(2,2,2,2)"
      ],
      "metadata": {
        "colab": {
          "base_uri": "https://localhost:8080/"
        },
        "id": "d28cjbpX59ms",
        "outputId": "c9338a4a-5d6e-4635-99fe-f55f48407075"
      },
      "execution_count": null,
      "outputs": [
        {
          "output_type": "execute_result",
          "data": {
            "text/plain": [
              "tensor([[[[1., 1.],\n",
              "          [1., 1.]],\n",
              "\n",
              "         [[1., 1.],\n",
              "          [1., 1.]]],\n",
              "\n",
              "\n",
              "        [[[1., 1.],\n",
              "          [1., 1.]],\n",
              "\n",
              "         [[1., 1.],\n",
              "          [1., 1.]]]])"
            ]
          },
          "metadata": {},
          "execution_count": 13
        }
      ]
    },
    {
      "cell_type": "code",
      "source": [
        "# flatten\n",
        "a.flatten()"
      ],
      "metadata": {
        "colab": {
          "base_uri": "https://localhost:8080/"
        },
        "id": "m43Byr_56EZ7",
        "outputId": "7d56d8ed-acf8-47f9-b008-d099ae765b04"
      },
      "execution_count": null,
      "outputs": [
        {
          "output_type": "execute_result",
          "data": {
            "text/plain": [
              "tensor([1., 1., 1., 1., 1., 1., 1., 1., 1., 1., 1., 1., 1., 1., 1., 1.])"
            ]
          },
          "metadata": {},
          "execution_count": 14
        }
      ]
    },
    {
      "cell_type": "code",
      "source": [
        "b = torch.rand(2,3,4)\n",
        "b"
      ],
      "metadata": {
        "colab": {
          "base_uri": "https://localhost:8080/"
        },
        "id": "h7o5BtNY70Tf",
        "outputId": "25a1988f-c649-49bc-e056-6b516dbb82c3"
      },
      "execution_count": null,
      "outputs": [
        {
          "output_type": "execute_result",
          "data": {
            "text/plain": [
              "tensor([[[0.8814, 0.6776, 0.9384, 0.6024],\n",
              "         [0.5425, 0.5617, 0.7212, 0.9438],\n",
              "         [0.4421, 0.4815, 0.1379, 0.3496]],\n",
              "\n",
              "        [[0.7737, 0.4199, 0.8393, 0.9915],\n",
              "         [0.5385, 0.4889, 0.0110, 0.2180],\n",
              "         [0.8736, 0.0809, 0.0764, 0.2899]]])"
            ]
          },
          "metadata": {},
          "execution_count": 15
        }
      ]
    },
    {
      "cell_type": "code",
      "source": [
        "# permute\n",
        "\n",
        "b.permute(2,0,1).shape"
      ],
      "metadata": {
        "colab": {
          "base_uri": "https://localhost:8080/"
        },
        "id": "w7gLEzEO6OIK",
        "outputId": "e2665d08-e428-426c-b49a-98b6851542a7"
      },
      "execution_count": null,
      "outputs": [
        {
          "output_type": "execute_result",
          "data": {
            "text/plain": [
              "torch.Size([4, 2, 3])"
            ]
          },
          "metadata": {},
          "execution_count": 20
        }
      ]
    },
    {
      "cell_type": "code",
      "source": [
        "c = torch.rand(226,226,3) #typical image size when a model is trained through CNN\n",
        "c"
      ],
      "metadata": {
        "colab": {
          "base_uri": "https://localhost:8080/"
        },
        "id": "DOPfu1Pk9GLH",
        "outputId": "2d33b5a7-7549-4f7f-b483-eab64a5634fe"
      },
      "execution_count": null,
      "outputs": [
        {
          "output_type": "execute_result",
          "data": {
            "text/plain": [
              "tensor([[[0.0819, 0.7723, 0.9041],\n",
              "         [0.2859, 0.0496, 0.5069],\n",
              "         [0.3811, 0.0074, 0.6225],\n",
              "         ...,\n",
              "         [0.4228, 0.0243, 0.1308],\n",
              "         [0.0968, 0.1495, 0.2156],\n",
              "         [0.5488, 0.9790, 0.6810]],\n",
              "\n",
              "        [[0.4324, 0.0725, 0.2633],\n",
              "         [0.1888, 0.3408, 0.0335],\n",
              "         [0.0830, 0.4940, 0.3338],\n",
              "         ...,\n",
              "         [0.1079, 0.6702, 0.4100],\n",
              "         [0.7207, 0.3513, 0.0395],\n",
              "         [0.1489, 0.8691, 0.7161]],\n",
              "\n",
              "        [[0.0893, 0.7326, 0.0136],\n",
              "         [0.9973, 0.8725, 0.4715],\n",
              "         [0.5268, 0.5757, 0.4601],\n",
              "         ...,\n",
              "         [0.1431, 0.0049, 0.4119],\n",
              "         [0.5154, 0.6164, 0.2301],\n",
              "         [0.0094, 0.1471, 0.7060]],\n",
              "\n",
              "        ...,\n",
              "\n",
              "        [[0.3021, 0.9379, 0.2706],\n",
              "         [0.5734, 0.1007, 0.1906],\n",
              "         [0.3991, 0.6735, 0.9210],\n",
              "         ...,\n",
              "         [0.1351, 0.0403, 0.0287],\n",
              "         [0.6452, 0.2643, 0.6244],\n",
              "         [0.3650, 0.6553, 0.7278]],\n",
              "\n",
              "        [[0.8331, 0.4074, 0.5508],\n",
              "         [0.4083, 0.4029, 0.9459],\n",
              "         [0.1897, 0.6616, 0.3913],\n",
              "         ...,\n",
              "         [0.5100, 0.7823, 0.9269],\n",
              "         [0.8249, 0.7367, 0.4462],\n",
              "         [0.9755, 0.2294, 0.3327]],\n",
              "\n",
              "        [[0.0743, 0.0819, 0.9037],\n",
              "         [0.0105, 0.7487, 0.5443],\n",
              "         [0.9157, 0.5946, 0.1251],\n",
              "         ...,\n",
              "         [0.1235, 0.0977, 0.9398],\n",
              "         [0.8556, 0.3387, 0.8561],\n",
              "         [0.2884, 0.4165, 0.3762]]])"
            ]
          },
          "metadata": {},
          "execution_count": 21
        }
      ]
    },
    {
      "cell_type": "code",
      "source": [
        "# unsqueeze (adds a new position)\n",
        "c.unsqueeze(1).shape"
      ],
      "metadata": {
        "colab": {
          "base_uri": "https://localhost:8080/"
        },
        "id": "QAfc9mM09Pfo",
        "outputId": "fa16d26e-dbd8-4c17-8cc2-19b87eacc7a3"
      },
      "execution_count": null,
      "outputs": [
        {
          "output_type": "execute_result",
          "data": {
            "text/plain": [
              "torch.Size([226, 1, 226, 3])"
            ]
          },
          "metadata": {},
          "execution_count": 23
        }
      ]
    },
    {
      "cell_type": "code",
      "source": [
        "# squeeze (removes positions)\n",
        "c.squeeze(1).shape\n"
      ],
      "metadata": {
        "colab": {
          "base_uri": "https://localhost:8080/"
        },
        "id": "Izj0_FR_-lGx",
        "outputId": "313a0e80-6f35-426f-e5b9-e12c540e1f37"
      },
      "execution_count": null,
      "outputs": [
        {
          "output_type": "execute_result",
          "data": {
            "text/plain": [
              "torch.Size([226, 226, 3])"
            ]
          },
          "metadata": {},
          "execution_count": 25
        }
      ]
    },
    {
      "cell_type": "code",
      "source": [
        "import numpy as np\n",
        "\n",
        "a = torch.tensor([1,2,3])\n",
        "a"
      ],
      "metadata": {
        "colab": {
          "base_uri": "https://localhost:8080/"
        },
        "id": "NNkekEA4_H97",
        "outputId": "dd8e91f1-211f-4dc0-ab3c-7a551d98ed48"
      },
      "execution_count": null,
      "outputs": [
        {
          "output_type": "execute_result",
          "data": {
            "text/plain": [
              "tensor([1, 2, 3])"
            ]
          },
          "metadata": {},
          "execution_count": 26
        }
      ]
    },
    {
      "cell_type": "code",
      "source": [
        "b = a.numpy()\n",
        "b"
      ],
      "metadata": {
        "colab": {
          "base_uri": "https://localhost:8080/"
        },
        "id": "J_e92yaW_Oi4",
        "outputId": "6589a8fd-8e20-4319-b391-b96433ca1b9d"
      },
      "execution_count": null,
      "outputs": [
        {
          "output_type": "execute_result",
          "data": {
            "text/plain": [
              "array([1, 2, 3])"
            ]
          },
          "metadata": {},
          "execution_count": 28
        }
      ]
    },
    {
      "cell_type": "code",
      "source": [
        "type(b)"
      ],
      "metadata": {
        "colab": {
          "base_uri": "https://localhost:8080/"
        },
        "id": "Rdc1fszt_S-I",
        "outputId": "38000c0c-5086-4d88-dd8c-3805cf598f2f"
      },
      "execution_count": null,
      "outputs": [
        {
          "output_type": "execute_result",
          "data": {
            "text/plain": [
              "numpy.ndarray"
            ]
          },
          "metadata": {},
          "execution_count": 29
        }
      ]
    },
    {
      "cell_type": "code",
      "source": [
        "c = np.array([1,2,3])\n",
        "c"
      ],
      "metadata": {
        "colab": {
          "base_uri": "https://localhost:8080/"
        },
        "id": "22mj4E1H_an-",
        "outputId": "fe4baffc-fb9b-4398-c371-836ec0c9c1fa"
      },
      "execution_count": null,
      "outputs": [
        {
          "output_type": "execute_result",
          "data": {
            "text/plain": [
              "array([1, 2, 3])"
            ]
          },
          "metadata": {},
          "execution_count": 30
        }
      ]
    },
    {
      "cell_type": "code",
      "source": [
        "torch.from_numpy(c)"
      ],
      "metadata": {
        "colab": {
          "base_uri": "https://localhost:8080/"
        },
        "id": "pDInEY1A_fxV",
        "outputId": "77d0aba5-8d56-4ecc-ad33-8dc71713cf2f"
      },
      "execution_count": null,
      "outputs": [
        {
          "output_type": "execute_result",
          "data": {
            "text/plain": [
              "tensor([1, 2, 3])"
            ]
          },
          "metadata": {},
          "execution_count": 31
        }
      ]
    }
  ]
}